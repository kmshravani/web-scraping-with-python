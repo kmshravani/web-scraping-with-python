{
  "nbformat": 4,
  "nbformat_minor": 0,
  "metadata": {
    "colab": {
      "name": "Web-Scraping_Quotes.ipynb",
      "provenance": [],
      "authorship_tag": "ABX9TyMj1dHuPjYji79sAK79XGTg",
      "include_colab_link": true
    },
    "kernelspec": {
      "name": "python3",
      "display_name": "Python 3"
    },
    "language_info": {
      "name": "python"
    }
  },
  "cells": [
    {
      "cell_type": "markdown",
      "metadata": {
        "id": "view-in-github",
        "colab_type": "text"
      },
      "source": [
        "<a href=\"https://colab.research.google.com/github/kmshravani/web-scraping-with-python/blob/main/Web_Scraping_Quotes.ipynb\" target=\"_parent\"><img src=\"https://colab.research.google.com/assets/colab-badge.svg\" alt=\"Open In Colab\"/></a>"
      ]
    },
    {
      "cell_type": "code",
      "metadata": {
        "id": "4vk6saepyUwe"
      },
      "source": [
        "import requests\n",
        "from bs4 import BeautifulSoup\n",
        "import pandas as pd"
      ],
      "execution_count": 1,
      "outputs": []
    },
    {
      "cell_type": "code",
      "metadata": {
        "id": "EFAPYFzhyp0M"
      },
      "source": [
        "url = 'https://www.brainyquote.com/topics'"
      ],
      "execution_count": 2,
      "outputs": []
    },
    {
      "cell_type": "code",
      "metadata": {
        "colab": {
          "base_uri": "https://localhost:8080/"
        },
        "id": "YdWOPClsyuep",
        "outputId": "3028ea64-a871-48cc-cb3f-6595c79da607"
      },
      "source": [
        "response = requests.get(url)\n",
        "response.status_code"
      ],
      "execution_count": 3,
      "outputs": [
        {
          "output_type": "execute_result",
          "data": {
            "text/plain": [
              "200"
            ]
          },
          "metadata": {},
          "execution_count": 3
        }
      ]
    },
    {
      "cell_type": "code",
      "metadata": {
        "colab": {
          "base_uri": "https://localhost:8080/"
        },
        "id": "NunT8FDWy4wI",
        "outputId": "2f5e9df1-2067-44d5-f04c-6b6696278604"
      },
      "source": [
        "print(len(response.text))\n",
        "# print(response.text[:1000])"
      ],
      "execution_count": 4,
      "outputs": [
        {
          "output_type": "stream",
          "name": "stdout",
          "text": [
            "81814\n"
          ]
        }
      ]
    },
    {
      "cell_type": "code",
      "metadata": {
        "id": "5dYjmxFY1PAS"
      },
      "source": [
        "page_contents = response.text\n",
        "soup = BeautifulSoup(page_contents,'html.parser')"
      ],
      "execution_count": 5,
      "outputs": []
    },
    {
      "cell_type": "code",
      "metadata": {
        "id": "PquD_7V_AdlJ"
      },
      "source": [
        "base_url = 'https://www.brainyquote.com'"
      ],
      "execution_count": 6,
      "outputs": []
    },
    {
      "cell_type": "code",
      "metadata": {
        "id": "uBulC4m--kHk"
      },
      "source": [
        "topic_selection_class = 'topicIndexChicklet bq_on_link_cl'\n",
        "topic = soup.find_all('a', {'class': topic_selection_class})"
      ],
      "execution_count": 7,
      "outputs": []
    },
    {
      "cell_type": "code",
      "metadata": {
        "colab": {
          "base_uri": "https://localhost:8080/"
        },
        "id": "wBMTlzfa_VCY",
        "outputId": "4133d84a-4fbd-49d7-c2e6-6c4435436266"
      },
      "source": [
        "print(len(topic))\n",
        "print(topic[0].text.strip())"
      ],
      "execution_count": 8,
      "outputs": [
        {
          "output_type": "stream",
          "name": "stdout",
          "text": [
            "125\n",
            "Age\n"
          ]
        }
      ]
    },
    {
      "cell_type": "code",
      "metadata": {
        "colab": {
          "base_uri": "https://localhost:8080/"
        },
        "id": "-rNtM0z0_SoI",
        "outputId": "d0821c61-cadf-46cd-9f4d-6eed18dae486"
      },
      "source": [
        "topics_list = []\n",
        "topic_url_list = []\n",
        "for i in topic:\n",
        "  topics_list.append(i.text.strip())\n",
        "  topic_url_list.append(base_url+i['href'])\n",
        "\n",
        "print(topics_list)\n",
        "print(topic_url_list)"
      ],
      "execution_count": 9,
      "outputs": [
        {
          "output_type": "stream",
          "name": "stdout",
          "text": [
            "['Age', 'Alone', 'Amazing', 'Anger', 'Anniversary', 'Architecture', 'Art', 'Attitude', 'Beauty', 'Best', 'Birthday', 'Brainy', 'Business', 'Car', 'Chance', 'Change', 'Christmas', 'Communication', 'Computers', 'Cool', 'Courage', 'Dad', 'Dating', 'Death', 'Design', 'Diet', 'Dreams', 'Easter', 'Education', 'Environmental', 'Equality', 'Experience', 'Experience', 'Failure', 'Faith', 'Family', 'Famous', \"Father's Day\", 'Fear', 'Finance', 'Fitness', 'Food', 'Forgiveness', 'Freedom', 'Friendship', 'Funny', 'Future', 'Gardening', 'God', 'Good', 'Government', 'Graduation', 'Great', 'Happiness', 'Health', 'History', 'Home', 'Hope', 'Humor', 'Imagination', 'Independence', 'Inspirational', 'Intelligence', 'Jealousy', 'Jealousy', 'Knowledge', 'Leadership', 'Learning', 'Legal', 'Life', 'Love', 'Marriage', 'Medical', 'Memorial Day', 'Men', 'Mom', 'Money', 'Morning', \"Mother's Day\", 'Motivational', 'Movies', 'Moving On', 'Music', 'Nature', \"New Year's\", 'Parenting', 'Patience', 'Patriotism', 'Peace', 'Pet', 'Poetry', 'Politics', 'Positive', 'Power', 'Relationship', 'Religion', 'Religion', 'Respect', 'Romantic', 'Sad', \"Saint Patrick's Day\", 'Science', 'Smile', 'Society', 'Space', 'Sports', 'Strength', 'Success', 'Sympathy', 'Teacher', 'Technology', 'Teen', 'Thankful', 'Thanksgiving', 'Time', 'Travel', 'Trust', 'Truth', \"Valentine's Day\", 'Veterans Day', 'War', 'Wedding', 'Wisdom', 'Women', 'Work']\n",
            "['https://www.brainyquote.com/topics/age-quotes', 'https://www.brainyquote.com/topics/alone-quotes', 'https://www.brainyquote.com/topics/amazing-quotes', 'https://www.brainyquote.com/topics/anger-quotes', 'https://www.brainyquote.com/topics/anniversary-quotes', 'https://www.brainyquote.com/topics/architecture-quotes', 'https://www.brainyquote.com/topics/art-quotes', 'https://www.brainyquote.com/topics/attitude-quotes', 'https://www.brainyquote.com/topics/beauty-quotes', 'https://www.brainyquote.com/topics/best-quotes', 'https://www.brainyquote.com/topics/birthday-quotes', 'https://www.brainyquote.com/topics/brainy-quotes', 'https://www.brainyquote.com/topics/business-quotes', 'https://www.brainyquote.com/topics/car-quotes', 'https://www.brainyquote.com/topics/chance-quotes', 'https://www.brainyquote.com/topics/change-quotes', 'https://www.brainyquote.com/topics/christmas-quotes', 'https://www.brainyquote.com/topics/communication-quotes', 'https://www.brainyquote.com/topics/computers-quotes', 'https://www.brainyquote.com/topics/cool-quotes', 'https://www.brainyquote.com/topics/courage-quotes', 'https://www.brainyquote.com/topics/dad-quotes', 'https://www.brainyquote.com/topics/dating-quotes', 'https://www.brainyquote.com/topics/death-quotes', 'https://www.brainyquote.com/topics/design-quotes', 'https://www.brainyquote.com/topics/diet-quotes', 'https://www.brainyquote.com/topics/dreams-quotes', 'https://www.brainyquote.com/topics/easter-quotes', 'https://www.brainyquote.com/topics/education-quotes', 'https://www.brainyquote.com/topics/environmental-quotes', 'https://www.brainyquote.com/topics/equality-quotes', 'https://www.brainyquote.com/topics/experience-quotes', 'https://www.brainyquote.com/topics/experience-quotes', 'https://www.brainyquote.com/topics/failure-quotes', 'https://www.brainyquote.com/topics/faith-quotes', 'https://www.brainyquote.com/topics/family-quotes', 'https://www.brainyquote.com/topics/famous-quotes', 'https://www.brainyquote.com/topics/fathers-day-quotes', 'https://www.brainyquote.com/topics/fear-quotes', 'https://www.brainyquote.com/topics/finance-quotes', 'https://www.brainyquote.com/topics/fitness-quotes', 'https://www.brainyquote.com/topics/food-quotes', 'https://www.brainyquote.com/topics/forgiveness-quotes', 'https://www.brainyquote.com/topics/freedom-quotes', 'https://www.brainyquote.com/topics/friendship-quotes', 'https://www.brainyquote.com/topics/funny-quotes', 'https://www.brainyquote.com/topics/future-quotes', 'https://www.brainyquote.com/topics/gardening-quotes', 'https://www.brainyquote.com/topics/god-quotes', 'https://www.brainyquote.com/topics/good-quotes', 'https://www.brainyquote.com/topics/government-quotes', 'https://www.brainyquote.com/topics/graduation-quotes', 'https://www.brainyquote.com/topics/great-quotes', 'https://www.brainyquote.com/topics/happiness-quotes', 'https://www.brainyquote.com/topics/health-quotes', 'https://www.brainyquote.com/topics/history-quotes', 'https://www.brainyquote.com/topics/home-quotes', 'https://www.brainyquote.com/topics/hope-quotes', 'https://www.brainyquote.com/topics/humor-quotes', 'https://www.brainyquote.com/topics/imagination-quotes', 'https://www.brainyquote.com/topics/independence-quotes', 'https://www.brainyquote.com/topics/inspirational-quotes', 'https://www.brainyquote.com/topics/intelligence-quotes', 'https://www.brainyquote.com/topics/jealousy-quotes', 'https://www.brainyquote.com/topics/jealousy-quotes', 'https://www.brainyquote.com/topics/knowledge-quotes', 'https://www.brainyquote.com/topics/leadership-quotes', 'https://www.brainyquote.com/topics/learning-quotes', 'https://www.brainyquote.com/topics/legal-quotes', 'https://www.brainyquote.com/topics/life-quotes', 'https://www.brainyquote.com/topics/love-quotes', 'https://www.brainyquote.com/topics/marriage-quotes', 'https://www.brainyquote.com/topics/medical-quotes', 'https://www.brainyquote.com/topics/memorial-day-quotes', 'https://www.brainyquote.com/topics/men-quotes', 'https://www.brainyquote.com/topics/mom-quotes', 'https://www.brainyquote.com/topics/money-quotes', 'https://www.brainyquote.com/topics/morning-quotes', 'https://www.brainyquote.com/topics/mothers-day-quotes', 'https://www.brainyquote.com/topics/motivational-quotes', 'https://www.brainyquote.com/topics/movies-quotes', 'https://www.brainyquote.com/topics/moving-on-quotes', 'https://www.brainyquote.com/topics/music-quotes', 'https://www.brainyquote.com/topics/nature-quotes', 'https://www.brainyquote.com/topics/new-years-quotes', 'https://www.brainyquote.com/topics/parenting-quotes', 'https://www.brainyquote.com/topics/patience-quotes', 'https://www.brainyquote.com/topics/patriotism-quotes', 'https://www.brainyquote.com/topics/peace-quotes', 'https://www.brainyquote.com/topics/pet-quotes', 'https://www.brainyquote.com/topics/poetry-quotes', 'https://www.brainyquote.com/topics/politics-quotes', 'https://www.brainyquote.com/topics/positive-quotes', 'https://www.brainyquote.com/topics/power-quotes', 'https://www.brainyquote.com/topics/relationship-quotes', 'https://www.brainyquote.com/topics/religion-quotes', 'https://www.brainyquote.com/topics/religion-quotes', 'https://www.brainyquote.com/topics/respect-quotes', 'https://www.brainyquote.com/topics/romantic-quotes', 'https://www.brainyquote.com/topics/sad-quotes', 'https://www.brainyquote.com/topics/saint-patricks-day-quotes', 'https://www.brainyquote.com/topics/science-quotes', 'https://www.brainyquote.com/topics/smile-quotes', 'https://www.brainyquote.com/topics/society-quotes', 'https://www.brainyquote.com/topics/space-quotes', 'https://www.brainyquote.com/topics/sports-quotes', 'https://www.brainyquote.com/topics/strength-quotes', 'https://www.brainyquote.com/topics/success-quotes', 'https://www.brainyquote.com/topics/sympathy-quotes', 'https://www.brainyquote.com/topics/teacher-quotes', 'https://www.brainyquote.com/topics/technology-quotes', 'https://www.brainyquote.com/topics/teen-quotes', 'https://www.brainyquote.com/topics/thankful-quotes', 'https://www.brainyquote.com/topics/thanksgiving-quotes', 'https://www.brainyquote.com/topics/time-quotes', 'https://www.brainyquote.com/topics/travel-quotes', 'https://www.brainyquote.com/topics/trust-quotes', 'https://www.brainyquote.com/topics/truth-quotes', 'https://www.brainyquote.com/topics/valentines-day-quotes', 'https://www.brainyquote.com/topics/veterans-day-quotes', 'https://www.brainyquote.com/topics/war-quotes', 'https://www.brainyquote.com/topics/wedding-quotes', 'https://www.brainyquote.com/topics/wisdom-quotes', 'https://www.brainyquote.com/topics/women-quotes', 'https://www.brainyquote.com/topics/work-quotes']\n"
          ]
        }
      ]
    },
    {
      "cell_type": "code",
      "metadata": {
        "colab": {
          "base_uri": "https://localhost:8080/",
          "height": 54
        },
        "id": "59FfdiEqHyF2",
        "outputId": "c1714b5a-c754-4ea8-a7e6-e33f3552c9cf"
      },
      "source": [
        "age_url = topic_url_list[0]\n",
        "print(age_url)\n",
        "display(age_url)"
      ],
      "execution_count": 10,
      "outputs": [
        {
          "output_type": "stream",
          "name": "stdout",
          "text": [
            "https://www.brainyquote.com/topics/age-quotes\n"
          ]
        },
        {
          "output_type": "display_data",
          "data": {
            "application/vnd.google.colaboratory.intrinsic+json": {
              "type": "string"
            },
            "text/plain": [
              "'https://www.brainyquote.com/topics/age-quotes'"
            ]
          },
          "metadata": {}
        }
      ]
    },
    {
      "cell_type": "code",
      "metadata": {
        "id": "WNI95klPILV2"
      },
      "source": [
        "response1 = requests.get(age_url)\n",
        "page_contents1 = response1.text\n",
        "soup1 = BeautifulSoup(page_contents1,'html.parser')"
      ],
      "execution_count": 11,
      "outputs": []
    },
    {
      "cell_type": "code",
      "metadata": {
        "id": "Am5FwoH6IW9_"
      },
      "source": [
        "age_quote = 'view quote'\n",
        "age_author = 'view author'\n",
        "quote_age = soup1.find_all('a',{'title': age_quote}) \n",
        "quote_author = soup1.find_all('a', {'title': age_author})\n",
        "# print(len(quote_age))\n",
        "# print(len(quote_author))\n"
      ],
      "execution_count": 12,
      "outputs": []
    },
    {
      "cell_type": "code",
      "metadata": {
        "colab": {
          "base_uri": "https://localhost:8080/"
        },
        "id": "AM-sU0m4Nrg9",
        "outputId": "84f1a4fc-0301-473b-e0f4-070c1e6ad734"
      },
      "source": [
        "print(quote_age[3].text.strip())\n",
        "print(quote_author[3].text.strip())"
      ],
      "execution_count": 13,
      "outputs": [
        {
          "output_type": "stream",
          "name": "stdout",
          "text": [
            "As I grow older, I pay less attention to what men say. I just watch what they do.\n",
            "Andrew Carnegie\n"
          ]
        }
      ]
    },
    {
      "cell_type": "code",
      "metadata": {
        "id": "N4HHKeo3NsV1"
      },
      "source": [
        "list1 = []\n",
        "list2 = []\n",
        "dict1 = {\n",
        "    'age quote':[],\n",
        "    'quote author':[]\n",
        "}\n",
        "\n",
        "for i in quote_age:\n",
        "  if i.text.strip() != '':\n",
        "    dict1['age quote'].append(i.text.strip())\n",
        "for j in quote_author:\n",
        "  dict1['quote author'].append(j.text.strip())\n",
        "# display(dict1)\n",
        "\n"
      ],
      "execution_count": 14,
      "outputs": []
    },
    {
      "cell_type": "code",
      "metadata": {
        "colab": {
          "base_uri": "https://localhost:8080/",
          "height": 1000
        },
        "id": "5eFoYYRnPgbq",
        "outputId": "d437fb23-267a-44e4-e34e-a196816ab12c"
      },
      "source": [
        "import pandas as pd\n",
        "topics_df = pd.DataFrame(dict1)\n",
        "topics_df"
      ],
      "execution_count": 15,
      "outputs": [
        {
          "output_type": "execute_result",
          "data": {
            "text/html": [
              "<div>\n",
              "<style scoped>\n",
              "    .dataframe tbody tr th:only-of-type {\n",
              "        vertical-align: middle;\n",
              "    }\n",
              "\n",
              "    .dataframe tbody tr th {\n",
              "        vertical-align: top;\n",
              "    }\n",
              "\n",
              "    .dataframe thead th {\n",
              "        text-align: right;\n",
              "    }\n",
              "</style>\n",
              "<table border=\"1\" class=\"dataframe\">\n",
              "  <thead>\n",
              "    <tr style=\"text-align: right;\">\n",
              "      <th></th>\n",
              "      <th>age quote</th>\n",
              "      <th>quote author</th>\n",
              "    </tr>\n",
              "  </thead>\n",
              "  <tbody>\n",
              "    <tr>\n",
              "      <th>0</th>\n",
              "      <td>Youth is the gift of nature, but age is a work...</td>\n",
              "      <td>Stanislaw Jerzy Lec</td>\n",
              "    </tr>\n",
              "    <tr>\n",
              "      <th>1</th>\n",
              "      <td>Aging is not lost youth but a new stage of opp...</td>\n",
              "      <td>Betty Friedan</td>\n",
              "    </tr>\n",
              "    <tr>\n",
              "      <th>2</th>\n",
              "      <td>True terror is to wake up one morning and disc...</td>\n",
              "      <td>Kurt Vonnegut</td>\n",
              "    </tr>\n",
              "    <tr>\n",
              "      <th>3</th>\n",
              "      <td>As I grow older, I pay less attention to what ...</td>\n",
              "      <td>Andrew Carnegie</td>\n",
              "    </tr>\n",
              "    <tr>\n",
              "      <th>4</th>\n",
              "      <td>Nobody grows old merely by living a number of ...</td>\n",
              "      <td>Samuel Ullman</td>\n",
              "    </tr>\n",
              "    <tr>\n",
              "      <th>5</th>\n",
              "      <td>I'm happy to report that my inner child is sti...</td>\n",
              "      <td>James Broughton</td>\n",
              "    </tr>\n",
              "    <tr>\n",
              "      <th>6</th>\n",
              "      <td>Old age is no place for sissies.</td>\n",
              "      <td>Bette Davis</td>\n",
              "    </tr>\n",
              "    <tr>\n",
              "      <th>7</th>\n",
              "      <td>Age is a very high price to pay for maturity.</td>\n",
              "      <td>Tom Stoppard</td>\n",
              "    </tr>\n",
              "    <tr>\n",
              "      <th>8</th>\n",
              "      <td>Forty is the old age of youth; fifty the youth...</td>\n",
              "      <td>Victor Hugo</td>\n",
              "    </tr>\n",
              "    <tr>\n",
              "      <th>9</th>\n",
              "      <td>Do not go gentle into that good night but rage...</td>\n",
              "      <td>Dylan Thomas</td>\n",
              "    </tr>\n",
              "    <tr>\n",
              "      <th>10</th>\n",
              "      <td>Age is an issue of mind over matter. If you do...</td>\n",
              "      <td>Mark Twain</td>\n",
              "    </tr>\n",
              "    <tr>\n",
              "      <th>11</th>\n",
              "      <td>Age is not important unless you're a cheese.</td>\n",
              "      <td>Helen Hayes</td>\n",
              "    </tr>\n",
              "    <tr>\n",
              "      <th>12</th>\n",
              "      <td>You can't help getting older, but you don't ha...</td>\n",
              "      <td>George Burns</td>\n",
              "    </tr>\n",
              "    <tr>\n",
              "      <th>13</th>\n",
              "      <td>Middle age is youth without levity, and age wi...</td>\n",
              "      <td>Doris Day</td>\n",
              "    </tr>\n",
              "    <tr>\n",
              "      <th>14</th>\n",
              "      <td>There is a fountain of youth: it is your mind,...</td>\n",
              "      <td>Sophia Loren</td>\n",
              "    </tr>\n",
              "    <tr>\n",
              "      <th>15</th>\n",
              "      <td>Just remember, once you're over the hill you b...</td>\n",
              "      <td>Arthur Schopenhauer</td>\n",
              "    </tr>\n",
              "    <tr>\n",
              "      <th>16</th>\n",
              "      <td>The trick is growing up without growing old.</td>\n",
              "      <td>Casey Stengel</td>\n",
              "    </tr>\n",
              "    <tr>\n",
              "      <th>17</th>\n",
              "      <td>To keep the heart unwrinkled, to be hopeful, k...</td>\n",
              "      <td>Thomas Bailey Aldrich</td>\n",
              "    </tr>\n",
              "    <tr>\n",
              "      <th>18</th>\n",
              "      <td>Every time I paint a portrait I lose a friend.</td>\n",
              "      <td>John Singer Sargent</td>\n",
              "    </tr>\n",
              "    <tr>\n",
              "      <th>19</th>\n",
              "      <td>Men are like wine - some turn to vinegar, but ...</td>\n",
              "      <td>Pope John XXIII</td>\n",
              "    </tr>\n",
              "    <tr>\n",
              "      <th>20</th>\n",
              "      <td>Let age, not envy, draw wrinkles on thy cheeks.</td>\n",
              "      <td>Thomas Browne</td>\n",
              "    </tr>\n",
              "    <tr>\n",
              "      <th>21</th>\n",
              "      <td>Youth is wasted on the young.</td>\n",
              "      <td>George Bernard Shaw</td>\n",
              "    </tr>\n",
              "    <tr>\n",
              "      <th>22</th>\n",
              "      <td>Youth is in a grand flush, like the hot days o...</td>\n",
              "      <td>Donald G. Mitchell</td>\n",
              "    </tr>\n",
              "    <tr>\n",
              "      <th>23</th>\n",
              "      <td>Oh rage! Oh despair! Oh age, my enemy!</td>\n",
              "      <td>Pierre Corneille</td>\n",
              "    </tr>\n",
              "    <tr>\n",
              "      <th>24</th>\n",
              "      <td>We are always the same age inside.</td>\n",
              "      <td>Gertrude Stein</td>\n",
              "    </tr>\n",
              "    <tr>\n",
              "      <th>25</th>\n",
              "      <td>Every man desires to live long, but no man wis...</td>\n",
              "      <td>Jonathan Swift</td>\n",
              "    </tr>\n",
              "    <tr>\n",
              "      <th>26</th>\n",
              "      <td>Old minds are like old horses; you must exerci...</td>\n",
              "      <td>John Adams</td>\n",
              "    </tr>\n",
              "    <tr>\n",
              "      <th>27</th>\n",
              "      <td>It is not how old you are, but how you are old.</td>\n",
              "      <td>Jules Renard</td>\n",
              "    </tr>\n",
              "    <tr>\n",
              "      <th>28</th>\n",
              "      <td>To resist the frigidity of old age, one must c...</td>\n",
              "      <td>Alan Bleasdale</td>\n",
              "    </tr>\n",
              "    <tr>\n",
              "      <th>29</th>\n",
              "      <td>You end up as you deserve. In old age you must...</td>\n",
              "      <td>Judith Viorst</td>\n",
              "    </tr>\n",
              "    <tr>\n",
              "      <th>30</th>\n",
              "      <td>Surrounding myself with beautiful women keeps ...</td>\n",
              "      <td>Hugh Hefner</td>\n",
              "    </tr>\n",
              "    <tr>\n",
              "      <th>31</th>\n",
              "      <td>It is sad to grow old but nice to ripen.</td>\n",
              "      <td>Brigitte Bardot</td>\n",
              "    </tr>\n",
              "    <tr>\n",
              "      <th>32</th>\n",
              "      <td>Anyone who stops learning is old, whether at t...</td>\n",
              "      <td>Henry Ford</td>\n",
              "    </tr>\n",
              "    <tr>\n",
              "      <th>33</th>\n",
              "      <td>Try to keep your soul young and quivering righ...</td>\n",
              "      <td>George Sand</td>\n",
              "    </tr>\n",
              "    <tr>\n",
              "      <th>34</th>\n",
              "      <td>If you haven't turned rebel by twenty you've g...</td>\n",
              "      <td>Kevin Spacey</td>\n",
              "    </tr>\n",
              "    <tr>\n",
              "      <th>35</th>\n",
              "      <td>Those who love deeply never grow old; they may...</td>\n",
              "      <td>Dorothy Canfield Fisher</td>\n",
              "    </tr>\n",
              "    <tr>\n",
              "      <th>36</th>\n",
              "      <td>A man growing old becomes a child again.</td>\n",
              "      <td>Sophocles</td>\n",
              "    </tr>\n",
              "    <tr>\n",
              "      <th>37</th>\n",
              "      <td>As men get older, the toys get more expensive.</td>\n",
              "      <td>Marvin Davis</td>\n",
              "    </tr>\n",
              "    <tr>\n",
              "      <th>38</th>\n",
              "      <td>Age does not protect you from love. But love, ...</td>\n",
              "      <td>Jeanne Moreau</td>\n",
              "    </tr>\n",
              "    <tr>\n",
              "      <th>39</th>\n",
              "      <td>I think women should start to embrace their ag...</td>\n",
              "      <td>Olivia Munn</td>\n",
              "    </tr>\n",
              "    <tr>\n",
              "      <th>40</th>\n",
              "      <td>I think your whole life shows in your face and...</td>\n",
              "      <td>Lauren Bacall</td>\n",
              "    </tr>\n",
              "    <tr>\n",
              "      <th>41</th>\n",
              "      <td>Age appears to be best in four things; old woo...</td>\n",
              "      <td>Francis Bacon</td>\n",
              "    </tr>\n",
              "    <tr>\n",
              "      <th>42</th>\n",
              "      <td>The secret of staying young is to live honestl...</td>\n",
              "      <td>Lucille Ball</td>\n",
              "    </tr>\n",
              "    <tr>\n",
              "      <th>43</th>\n",
              "      <td>No one can avoid aging, but aging productively...</td>\n",
              "      <td>Katharine Graham</td>\n",
              "    </tr>\n",
              "    <tr>\n",
              "      <th>44</th>\n",
              "      <td>Old age is like a plane flying through a storm...</td>\n",
              "      <td>Golda Meir</td>\n",
              "    </tr>\n",
              "    <tr>\n",
              "      <th>45</th>\n",
              "      <td>Inflation is when you pay fifteen dollars for ...</td>\n",
              "      <td>Sam Ewing</td>\n",
              "    </tr>\n",
              "    <tr>\n",
              "      <th>46</th>\n",
              "      <td>Youth is the best time to be rich, and the bes...</td>\n",
              "      <td>Euripides</td>\n",
              "    </tr>\n",
              "    <tr>\n",
              "      <th>47</th>\n",
              "      <td>Gray hairs seem to my fancy like the soft ligh...</td>\n",
              "      <td>Jean Paul</td>\n",
              "    </tr>\n",
              "    <tr>\n",
              "      <th>48</th>\n",
              "      <td>When grace is joined with wrinkles, it is ador...</td>\n",
              "      <td>Victor Hugo</td>\n",
              "    </tr>\n",
              "    <tr>\n",
              "      <th>49</th>\n",
              "      <td>None are so old as those who have outlived ent...</td>\n",
              "      <td>Henry David Thoreau</td>\n",
              "    </tr>\n",
              "    <tr>\n",
              "      <th>50</th>\n",
              "      <td>One of the many pleasures of old age is giving...</td>\n",
              "      <td>Malcolm Muggeridge</td>\n",
              "    </tr>\n",
              "    <tr>\n",
              "      <th>51</th>\n",
              "      <td>I will never be an old man. To me, old age is ...</td>\n",
              "      <td>Francis Bacon</td>\n",
              "    </tr>\n",
              "    <tr>\n",
              "      <th>52</th>\n",
              "      <td>Nature gives you the face you have at twenty; ...</td>\n",
              "      <td>Coco Chanel</td>\n",
              "    </tr>\n",
              "    <tr>\n",
              "      <th>53</th>\n",
              "      <td>You don't stop laughing because you grow older...</td>\n",
              "      <td>Maurice Chevalier</td>\n",
              "    </tr>\n",
              "    <tr>\n",
              "      <th>54</th>\n",
              "      <td>Age does not protect you from love. But love, ...</td>\n",
              "      <td>Anais Nin</td>\n",
              "    </tr>\n",
              "    <tr>\n",
              "      <th>55</th>\n",
              "      <td>A grownup is a child with layers on.</td>\n",
              "      <td>Woody Harrelson</td>\n",
              "    </tr>\n",
              "    <tr>\n",
              "      <th>56</th>\n",
              "      <td>Old age is an excellent time for outrage. My g...</td>\n",
              "      <td>Louis Kronenberger</td>\n",
              "    </tr>\n",
              "    <tr>\n",
              "      <th>57</th>\n",
              "      <td>Be on the alert to recognize your prime at wha...</td>\n",
              "      <td>Muriel Spark</td>\n",
              "    </tr>\n",
              "    <tr>\n",
              "      <th>58</th>\n",
              "      <td>After thirty, a body has a mind of its own.</td>\n",
              "      <td>Bette Midler</td>\n",
              "    </tr>\n",
              "    <tr>\n",
              "      <th>59</th>\n",
              "      <td>A diplomat is a man who always remembers a wom...</td>\n",
              "      <td>Robert Frost</td>\n",
              "    </tr>\n",
              "  </tbody>\n",
              "</table>\n",
              "</div>"
            ],
            "text/plain": [
              "                                            age quote             quote author\n",
              "0   Youth is the gift of nature, but age is a work...      Stanislaw Jerzy Lec\n",
              "1   Aging is not lost youth but a new stage of opp...            Betty Friedan\n",
              "2   True terror is to wake up one morning and disc...            Kurt Vonnegut\n",
              "3   As I grow older, I pay less attention to what ...          Andrew Carnegie\n",
              "4   Nobody grows old merely by living a number of ...            Samuel Ullman\n",
              "5   I'm happy to report that my inner child is sti...          James Broughton\n",
              "6                    Old age is no place for sissies.              Bette Davis\n",
              "7       Age is a very high price to pay for maturity.             Tom Stoppard\n",
              "8   Forty is the old age of youth; fifty the youth...              Victor Hugo\n",
              "9   Do not go gentle into that good night but rage...             Dylan Thomas\n",
              "10  Age is an issue of mind over matter. If you do...               Mark Twain\n",
              "11       Age is not important unless you're a cheese.              Helen Hayes\n",
              "12  You can't help getting older, but you don't ha...             George Burns\n",
              "13  Middle age is youth without levity, and age wi...                Doris Day\n",
              "14  There is a fountain of youth: it is your mind,...             Sophia Loren\n",
              "15  Just remember, once you're over the hill you b...      Arthur Schopenhauer\n",
              "16       The trick is growing up without growing old.            Casey Stengel\n",
              "17  To keep the heart unwrinkled, to be hopeful, k...    Thomas Bailey Aldrich\n",
              "18     Every time I paint a portrait I lose a friend.      John Singer Sargent\n",
              "19  Men are like wine - some turn to vinegar, but ...          Pope John XXIII\n",
              "20    Let age, not envy, draw wrinkles on thy cheeks.            Thomas Browne\n",
              "21                      Youth is wasted on the young.      George Bernard Shaw\n",
              "22  Youth is in a grand flush, like the hot days o...       Donald G. Mitchell\n",
              "23             Oh rage! Oh despair! Oh age, my enemy!         Pierre Corneille\n",
              "24                 We are always the same age inside.           Gertrude Stein\n",
              "25  Every man desires to live long, but no man wis...           Jonathan Swift\n",
              "26  Old minds are like old horses; you must exerci...               John Adams\n",
              "27    It is not how old you are, but how you are old.             Jules Renard\n",
              "28  To resist the frigidity of old age, one must c...           Alan Bleasdale\n",
              "29  You end up as you deserve. In old age you must...            Judith Viorst\n",
              "30  Surrounding myself with beautiful women keeps ...              Hugh Hefner\n",
              "31           It is sad to grow old but nice to ripen.          Brigitte Bardot\n",
              "32  Anyone who stops learning is old, whether at t...               Henry Ford\n",
              "33  Try to keep your soul young and quivering righ...              George Sand\n",
              "34  If you haven't turned rebel by twenty you've g...             Kevin Spacey\n",
              "35  Those who love deeply never grow old; they may...  Dorothy Canfield Fisher\n",
              "36           A man growing old becomes a child again.                Sophocles\n",
              "37     As men get older, the toys get more expensive.             Marvin Davis\n",
              "38  Age does not protect you from love. But love, ...            Jeanne Moreau\n",
              "39  I think women should start to embrace their ag...              Olivia Munn\n",
              "40  I think your whole life shows in your face and...            Lauren Bacall\n",
              "41  Age appears to be best in four things; old woo...            Francis Bacon\n",
              "42  The secret of staying young is to live honestl...             Lucille Ball\n",
              "43  No one can avoid aging, but aging productively...         Katharine Graham\n",
              "44  Old age is like a plane flying through a storm...               Golda Meir\n",
              "45  Inflation is when you pay fifteen dollars for ...                Sam Ewing\n",
              "46  Youth is the best time to be rich, and the bes...                Euripides\n",
              "47  Gray hairs seem to my fancy like the soft ligh...                Jean Paul\n",
              "48  When grace is joined with wrinkles, it is ador...              Victor Hugo\n",
              "49  None are so old as those who have outlived ent...      Henry David Thoreau\n",
              "50  One of the many pleasures of old age is giving...       Malcolm Muggeridge\n",
              "51  I will never be an old man. To me, old age is ...            Francis Bacon\n",
              "52  Nature gives you the face you have at twenty; ...              Coco Chanel\n",
              "53  You don't stop laughing because you grow older...        Maurice Chevalier\n",
              "54  Age does not protect you from love. But love, ...                Anais Nin\n",
              "55               A grownup is a child with layers on.          Woody Harrelson\n",
              "56  Old age is an excellent time for outrage. My g...       Louis Kronenberger\n",
              "57  Be on the alert to recognize your prime at wha...             Muriel Spark\n",
              "58        After thirty, a body has a mind of its own.             Bette Midler\n",
              "59  A diplomat is a man who always remembers a wom...             Robert Frost"
            ]
          },
          "metadata": {},
          "execution_count": 15
        }
      ]
    }
  ]
}